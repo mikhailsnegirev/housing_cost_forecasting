{
 "cells": [
  {
   "cell_type": "markdown",
   "id": "GEqQaHzsZ_bA",
   "metadata": {
    "id": "GEqQaHzsZ_bA"
   },
   "source": [
    "# Предсказание стоимости жилья\n",
    "\n",
    "В проекте нам нужно обучить модель линейной регрессии на данных о жилье в Калифорнии в 1990 году. На основе данных нужно предсказать медианную стоимость дома в жилом массиве. Обучим модель и сделаем предсказания на тестовой выборке. Для оценки качества модели будем использовать метрики RMSE, MAE и R2."
   ]
  },
  {
   "cell_type": "markdown",
   "id": "fdf86193",
   "metadata": {},
   "source": [
    "# Импорт необходимых библиотек и инициализация локальной Spark-сессии"
   ]
  },
  {
   "cell_type": "code",
   "execution_count": 1,
   "id": "3f6acf96",
   "metadata": {},
   "outputs": [],
   "source": [
    "import pandas as pd \n",
    "import numpy as np\n",
    "import pyspark\n",
    "\n",
    "from pyspark.sql import SparkSession\n",
    "from pyspark.sql.types import *\n",
    "import pyspark.sql.functions as F\n",
    "import seaborn as sns\n",
    "from pyspark.ml.feature import OneHotEncoder \n",
    "from pyspark.ml.feature import StringIndexer, VectorAssembler, StandardScaler\n",
    "from pyspark.ml.regression import LinearRegression\n",
    "from pyspark.ml.evaluation import RegressionEvaluator\n",
    "\n",
    "RANDOM_SEED = 2024"
   ]
  },
  {
   "cell_type": "code",
   "execution_count": 2,
   "id": "8814d487",
   "metadata": {},
   "outputs": [],
   "source": [
    "spark = SparkSession.builder \\\n",
    "                    .master(\"local\") \\\n",
    "                    .appName(\"Price house - Logistic regression\") \\\n",
    "                    .getOrCreate()"
   ]
  },
  {
   "cell_type": "markdown",
   "id": "53871372",
   "metadata": {
    "id": "53871372"
   },
   "source": [
    "# Подготовка данных"
   ]
  },
  {
   "cell_type": "markdown",
   "id": "b4abc3e4",
   "metadata": {
    "id": "df92e3ec"
   },
   "source": [
    "**В колонках датасета содержатся следующие данные:**"
   ]
  },
  {
   "cell_type": "markdown",
   "id": "494fdb3c",
   "metadata": {},
   "source": [
    "- `longitude` — широта;\n",
    "- `latitude` — долгота;\n",
    "- `housing_median_age` — медианный возраст жителей жилого массива;\n",
    "- `total_rooms` — общее количество комнат в домах жилого массива;\n",
    "- `total_bedrooms` — общее количество спален в домах жилого массива;\n",
    "- `population` — количество человек, которые проживают в жилом массиве;\n",
    "- `households` — количество домовладений в жилом массиве;\n",
    "- `median_income` — медианный доход жителей жилого массива;\n",
    "- `median_house_value` — медианная стоимость дома в жилом массиве;\n",
    "- `ocean_proximity` — близость к океану."
   ]
  },
  {
   "cell_type": "markdown",
   "id": "7e702eb2",
   "metadata": {},
   "source": [
    "**Прочитаем содержимое файла:**"
   ]
  },
  {
   "cell_type": "code",
   "execution_count": 3,
   "id": "371320fa",
   "metadata": {},
   "outputs": [
    {
     "name": "stderr",
     "output_type": "stream",
     "text": [
      "[Stage 1:>                                                          (0 + 1) / 1]\r"
     ]
    },
    {
     "name": "stdout",
     "output_type": "stream",
     "text": [
      "root\n",
      " |-- longitude: double (nullable = true)\n",
      " |-- latitude: double (nullable = true)\n",
      " |-- housing_median_age: double (nullable = true)\n",
      " |-- total_rooms: double (nullable = true)\n",
      " |-- total_bedrooms: double (nullable = true)\n",
      " |-- population: double (nullable = true)\n",
      " |-- households: double (nullable = true)\n",
      " |-- median_income: double (nullable = true)\n",
      " |-- median_house_value: double (nullable = true)\n",
      " |-- ocean_proximity: string (nullable = true)\n",
      "\n"
     ]
    },
    {
     "name": "stderr",
     "output_type": "stream",
     "text": [
      "                                                                                \r"
     ]
    }
   ],
   "source": [
    "data_housing = spark.read.option('header', 'true').csv('/datasets/housing.csv', inferSchema = True) \n",
    "data_housing.printSchema() "
   ]
  },
  {
   "cell_type": "code",
   "execution_count": 4,
   "id": "ce29be99",
   "metadata": {},
   "outputs": [
    {
     "name": "stdout",
     "output_type": "stream",
     "text": [
      "+---------+--------+------------------+-----------+--------------+----------+----------+-------------+------------------+---------------+\n",
      "|longitude|latitude|housing_median_age|total_rooms|total_bedrooms|population|households|median_income|median_house_value|ocean_proximity|\n",
      "+---------+--------+------------------+-----------+--------------+----------+----------+-------------+------------------+---------------+\n",
      "|  -122.23|   37.88|              41.0|      880.0|         129.0|     322.0|     126.0|       8.3252|          452600.0|       NEAR BAY|\n",
      "|  -122.22|   37.86|              21.0|     7099.0|        1106.0|    2401.0|    1138.0|       8.3014|          358500.0|       NEAR BAY|\n",
      "|  -122.24|   37.85|              52.0|     1467.0|         190.0|     496.0|     177.0|       7.2574|          352100.0|       NEAR BAY|\n",
      "|  -122.25|   37.85|              52.0|     1274.0|         235.0|     558.0|     219.0|       5.6431|          341300.0|       NEAR BAY|\n",
      "|  -122.25|   37.85|              52.0|     1627.0|         280.0|     565.0|     259.0|       3.8462|          342200.0|       NEAR BAY|\n",
      "+---------+--------+------------------+-----------+--------------+----------+----------+-------------+------------------+---------------+\n",
      "only showing top 5 rows\n",
      "\n"
     ]
    }
   ],
   "source": [
    "data_housing.show(5)"
   ]
  },
  {
   "cell_type": "markdown",
   "id": "079beb0b",
   "metadata": {},
   "source": [
    "**Выведем типы данных колонок датасета, используя методы pySpark:**"
   ]
  },
  {
   "cell_type": "code",
   "execution_count": 5,
   "id": "052c9f23",
   "metadata": {},
   "outputs": [
    {
     "name": "stdout",
     "output_type": "stream",
     "text": [
      "               column    type\n",
      "0           longitude  double\n",
      "1            latitude  double\n",
      "2  housing_median_age  double\n",
      "3         total_rooms  double\n",
      "4      total_bedrooms  double\n",
      "5          population  double\n",
      "6          households  double\n",
      "7       median_income  double\n",
      "8  median_house_value  double\n",
      "9     ocean_proximity  string\n"
     ]
    }
   ],
   "source": [
    "print(pd.DataFrame(data_housing.dtypes, columns=['column', 'type']))"
   ]
  },
  {
   "cell_type": "markdown",
   "id": "04b92311",
   "metadata": {},
   "source": [
    "***В наборе данных представлены исключительно числовые переменные, исключение составляет одна категориальная переменная - `ocean_proximity`.***"
   ]
  },
  {
   "cell_type": "markdown",
   "id": "389347fd",
   "metadata": {},
   "source": [
    "**Выведем с помощью метода describe() базовые описательные статистики данных в виде таблицы в pandas:**"
   ]
  },
  {
   "cell_type": "code",
   "execution_count": 6,
   "id": "fd1080d8",
   "metadata": {},
   "outputs": [
    {
     "name": "stderr",
     "output_type": "stream",
     "text": [
      "                                                                                \r"
     ]
    },
    {
     "data": {
      "text/html": [
       "<div>\n",
       "<style scoped>\n",
       "    .dataframe tbody tr th:only-of-type {\n",
       "        vertical-align: middle;\n",
       "    }\n",
       "\n",
       "    .dataframe tbody tr th {\n",
       "        vertical-align: top;\n",
       "    }\n",
       "\n",
       "    .dataframe thead th {\n",
       "        text-align: right;\n",
       "    }\n",
       "</style>\n",
       "<table border=\"1\" class=\"dataframe\">\n",
       "  <thead>\n",
       "    <tr style=\"text-align: right;\">\n",
       "      <th></th>\n",
       "      <th>summary</th>\n",
       "      <th>longitude</th>\n",
       "      <th>latitude</th>\n",
       "      <th>housing_median_age</th>\n",
       "      <th>total_rooms</th>\n",
       "      <th>total_bedrooms</th>\n",
       "      <th>population</th>\n",
       "      <th>households</th>\n",
       "      <th>median_income</th>\n",
       "      <th>median_house_value</th>\n",
       "      <th>ocean_proximity</th>\n",
       "    </tr>\n",
       "  </thead>\n",
       "  <tbody>\n",
       "    <tr>\n",
       "      <th>0</th>\n",
       "      <td>count</td>\n",
       "      <td>20640</td>\n",
       "      <td>20640</td>\n",
       "      <td>20640</td>\n",
       "      <td>20640</td>\n",
       "      <td>20433</td>\n",
       "      <td>20640</td>\n",
       "      <td>20640</td>\n",
       "      <td>20640</td>\n",
       "      <td>20640</td>\n",
       "      <td>20640</td>\n",
       "    </tr>\n",
       "    <tr>\n",
       "      <th>1</th>\n",
       "      <td>mean</td>\n",
       "      <td>-119.56970445736148</td>\n",
       "      <td>35.6318614341087</td>\n",
       "      <td>28.639486434108527</td>\n",
       "      <td>2635.7630813953488</td>\n",
       "      <td>537.8705525375618</td>\n",
       "      <td>1425.4767441860465</td>\n",
       "      <td>499.5396802325581</td>\n",
       "      <td>3.8706710029070246</td>\n",
       "      <td>206855.81690891474</td>\n",
       "      <td>None</td>\n",
       "    </tr>\n",
       "    <tr>\n",
       "      <th>2</th>\n",
       "      <td>stddev</td>\n",
       "      <td>2.003531723502584</td>\n",
       "      <td>2.135952397457101</td>\n",
       "      <td>12.58555761211163</td>\n",
       "      <td>2181.6152515827944</td>\n",
       "      <td>421.38507007403115</td>\n",
       "      <td>1132.46212176534</td>\n",
       "      <td>382.3297528316098</td>\n",
       "      <td>1.899821717945263</td>\n",
       "      <td>115395.61587441359</td>\n",
       "      <td>None</td>\n",
       "    </tr>\n",
       "    <tr>\n",
       "      <th>3</th>\n",
       "      <td>min</td>\n",
       "      <td>-124.35</td>\n",
       "      <td>32.54</td>\n",
       "      <td>1.0</td>\n",
       "      <td>2.0</td>\n",
       "      <td>1.0</td>\n",
       "      <td>3.0</td>\n",
       "      <td>1.0</td>\n",
       "      <td>0.4999</td>\n",
       "      <td>14999.0</td>\n",
       "      <td>&lt;1H OCEAN</td>\n",
       "    </tr>\n",
       "    <tr>\n",
       "      <th>4</th>\n",
       "      <td>max</td>\n",
       "      <td>-114.31</td>\n",
       "      <td>41.95</td>\n",
       "      <td>52.0</td>\n",
       "      <td>39320.0</td>\n",
       "      <td>6445.0</td>\n",
       "      <td>35682.0</td>\n",
       "      <td>6082.0</td>\n",
       "      <td>15.0001</td>\n",
       "      <td>500001.0</td>\n",
       "      <td>NEAR OCEAN</td>\n",
       "    </tr>\n",
       "  </tbody>\n",
       "</table>\n",
       "</div>"
      ],
      "text/plain": [
       "  summary            longitude           latitude  housing_median_age  \\\n",
       "0   count                20640              20640               20640   \n",
       "1    mean  -119.56970445736148   35.6318614341087  28.639486434108527   \n",
       "2  stddev    2.003531723502584  2.135952397457101   12.58555761211163   \n",
       "3     min              -124.35              32.54                 1.0   \n",
       "4     max              -114.31              41.95                52.0   \n",
       "\n",
       "          total_rooms      total_bedrooms          population  \\\n",
       "0               20640               20433               20640   \n",
       "1  2635.7630813953488   537.8705525375618  1425.4767441860465   \n",
       "2  2181.6152515827944  421.38507007403115    1132.46212176534   \n",
       "3                 2.0                 1.0                 3.0   \n",
       "4             39320.0              6445.0             35682.0   \n",
       "\n",
       "          households       median_income  median_house_value ocean_proximity  \n",
       "0              20640               20640               20640           20640  \n",
       "1  499.5396802325581  3.8706710029070246  206855.81690891474            None  \n",
       "2  382.3297528316098   1.899821717945263  115395.61587441359            None  \n",
       "3                1.0              0.4999             14999.0       <1H OCEAN  \n",
       "4             6082.0             15.0001            500001.0      NEAR OCEAN  "
      ]
     },
     "execution_count": 6,
     "metadata": {},
     "output_type": "execute_result"
    }
   ],
   "source": [
    "data_housing.describe().toPandas()"
   ]
  },
  {
   "cell_type": "markdown",
   "id": "e784163e",
   "metadata": {},
   "source": [
    "***Ого, в датасете примерно 21 тысяча строк. Максимальная медианная стоимость дома равна полумиллиону долларов. Только данные получены давно — сейчас дома в Калифорнии стоят в несколько раз дороже.***"
   ]
  },
  {
   "cell_type": "markdown",
   "id": "64f1350e",
   "metadata": {},
   "source": [
    "**Исследуем данные на наличие пропусков:**"
   ]
  },
  {
   "cell_type": "code",
   "execution_count": 7,
   "id": "a8c6d979",
   "metadata": {},
   "outputs": [
    {
     "name": "stdout",
     "output_type": "stream",
     "text": [
      "longitude 0\n",
      "latitude 0\n",
      "housing_median_age 0\n",
      "total_rooms 0\n",
      "total_bedrooms 207\n",
      "population 0\n",
      "households 0\n",
      "median_income 0\n",
      "median_house_value 0\n",
      "ocean_proximity 0\n"
     ]
    }
   ],
   "source": [
    "columns = data_housing.columns\n",
    "\n",
    "\n",
    "for column in columns:\n",
    "    print(column, data_housing.where(F.isnan(column) | F.col(column).isNull()).count())"
   ]
  },
  {
   "cell_type": "markdown",
   "id": "4e7168ff",
   "metadata": {},
   "source": [
    "Пропуски обнаружены только в столбце `total_bedrooms` — общее количество спален в домах жилого массива, пропущенные значения составляют около 1% от общего числа строк, и их удаление не повредит нашему исследованию."
   ]
  },
  {
   "cell_type": "code",
   "execution_count": 8,
   "id": "738d654c",
   "metadata": {},
   "outputs": [],
   "source": [
    "data_housing = data_housing.na.drop(subset=[\"total_bedrooms\"])"
   ]
  },
  {
   "cell_type": "markdown",
   "id": "64a5bc28",
   "metadata": {},
   "source": [
    "Проверим применились ли изменения: "
   ]
  },
  {
   "cell_type": "code",
   "execution_count": 9,
   "id": "cac3bb86",
   "metadata": {},
   "outputs": [
    {
     "name": "stdout",
     "output_type": "stream",
     "text": [
      "longitude 0\n",
      "latitude 0\n",
      "housing_median_age 0\n",
      "total_rooms 0\n",
      "total_bedrooms 0\n",
      "population 0\n",
      "households 0\n",
      "median_income 0\n",
      "median_house_value 0\n",
      "ocean_proximity 0\n"
     ]
    }
   ],
   "source": [
    "columns = data_housing.columns\n",
    "\n",
    "\n",
    "for column in columns:\n",
    "    print(column, data_housing.where(F.isnan(column) | F.col(column).isNull()).count())"
   ]
  },
  {
   "cell_type": "markdown",
   "id": "0c3c6dc7",
   "metadata": {},
   "source": [
    "Да, все отлично!"
   ]
  },
  {
   "cell_type": "markdown",
   "id": "4a235fa5",
   "metadata": {},
   "source": [
    "**Разделим колонки на два типа: числовые и текстовые, которые представляют категориальные данные:**"
   ]
  },
  {
   "cell_type": "code",
   "execution_count": 10,
   "id": "123f4eec",
   "metadata": {},
   "outputs": [],
   "source": [
    "categorical_cols = ['ocean_proximity']\n",
    "\n",
    "numerical_cols  = [\"longitude\", \"latitude\", \"housing_median_age\", \"total_rooms\", \n",
    "                   \"total_bedrooms\", \"population\", \"households\", \"median_income\"]\n",
    "\n",
    "target = \"median_house_value\" "
   ]
  },
  {
   "cell_type": "markdown",
   "id": "0e31346d",
   "metadata": {},
   "source": [
    "**Далее приступим к трансформации признаков:**"
   ]
  },
  {
   "cell_type": "markdown",
   "id": "e919a6b1",
   "metadata": {},
   "source": [
    "В первую очередь трансформируем категориальные признаки с помощью трансформера StringIndexer. Он переводит текстовые категории в числовое представление, так как большинство ML-алгоритмов работает с числовыми данными. По умолчанию трансформер на вход принимает названия колонок, которые нужно трансформировать, и список названий новых колонок."
   ]
  },
  {
   "cell_type": "code",
   "execution_count": 11,
   "id": "63dbc20b",
   "metadata": {},
   "outputs": [
    {
     "name": "stderr",
     "output_type": "stream",
     "text": [
      "                                                                                \r"
     ]
    },
    {
     "name": "stdout",
     "output_type": "stream",
     "text": [
      "+---------------+-------------------+\n",
      "|ocean_proximity|ocean_proximity_idx|\n",
      "+---------------+-------------------+\n",
      "|       NEAR BAY|                3.0|\n",
      "|       NEAR BAY|                3.0|\n",
      "|       NEAR BAY|                3.0|\n",
      "+---------------+-------------------+\n",
      "only showing top 3 rows\n",
      "\n"
     ]
    }
   ],
   "source": [
    "indexer = StringIndexer(inputCols=categorical_cols, \n",
    "                        outputCols=[c+'_idx' for c in categorical_cols]) \n",
    "data_housing = indexer.fit(data_housing).transform(data_housing)\n",
    "\n",
    "cols = [c for c in data_housing.columns for i in categorical_cols if (c.startswith(i))]\n",
    "data_housing.select(cols).show(3) "
   ]
  },
  {
   "cell_type": "markdown",
   "id": "993ba07c",
   "metadata": {},
   "source": [
    "Создадим OHE-кодирование (от англ. One hot encoder) для категорий.\n",
    "OneHotEncoder работает так же, как StringIndexer, — принимает на вход названия колонок, которые нужно трансформировать, и список названий новых колонок."
   ]
  },
  {
   "cell_type": "code",
   "execution_count": 12,
   "id": "e8316518",
   "metadata": {},
   "outputs": [
    {
     "name": "stdout",
     "output_type": "stream",
     "text": [
      "+---------------+-------------------+-------------------+\n",
      "|ocean_proximity|ocean_proximity_idx|ocean_proximity_ohe|\n",
      "+---------------+-------------------+-------------------+\n",
      "|       NEAR BAY|                3.0|      (4,[3],[1.0])|\n",
      "|       NEAR BAY|                3.0|      (4,[3],[1.0])|\n",
      "|       NEAR BAY|                3.0|      (4,[3],[1.0])|\n",
      "+---------------+-------------------+-------------------+\n",
      "only showing top 3 rows\n",
      "\n"
     ]
    }
   ],
   "source": [
    "encoder = OneHotEncoder(inputCols=[c+'_idx' for c in categorical_cols],\n",
    "                        outputCols=[c+'_ohe' for c in categorical_cols])\n",
    "data_housing = encoder.fit(data_housing).transform(data_housing)\n",
    "\n",
    "cols = [c for c in data_housing.columns for i in categorical_cols if (c.startswith(i))]\n",
    "data_housing.select(cols).show(3) "
   ]
  },
  {
   "cell_type": "code",
   "execution_count": 13,
   "id": "81c75181",
   "metadata": {},
   "outputs": [],
   "source": [
    "#data_housing.toPandas().head()"
   ]
  },
  {
   "cell_type": "code",
   "execution_count": 14,
   "id": "48c2fc28",
   "metadata": {},
   "outputs": [
    {
     "name": "stdout",
     "output_type": "stream",
     "text": [
      "+---------+--------+------------------+-----------+--------------+----------+----------+-------------+------------------+---------------+-------------------+-------------------+\n",
      "|longitude|latitude|housing_median_age|total_rooms|total_bedrooms|population|households|median_income|median_house_value|ocean_proximity|ocean_proximity_idx|ocean_proximity_ohe|\n",
      "+---------+--------+------------------+-----------+--------------+----------+----------+-------------+------------------+---------------+-------------------+-------------------+\n",
      "|  -122.23|   37.88|              41.0|      880.0|         129.0|     322.0|     126.0|       8.3252|          452600.0|       NEAR BAY|                3.0|      (4,[3],[1.0])|\n",
      "|  -122.22|   37.86|              21.0|     7099.0|        1106.0|    2401.0|    1138.0|       8.3014|          358500.0|       NEAR BAY|                3.0|      (4,[3],[1.0])|\n",
      "|  -122.24|   37.85|              52.0|     1467.0|         190.0|     496.0|     177.0|       7.2574|          352100.0|       NEAR BAY|                3.0|      (4,[3],[1.0])|\n",
      "|  -122.25|   37.85|              52.0|     1274.0|         235.0|     558.0|     219.0|       5.6431|          341300.0|       NEAR BAY|                3.0|      (4,[3],[1.0])|\n",
      "|  -122.25|   37.85|              52.0|     1627.0|         280.0|     565.0|     259.0|       3.8462|          342200.0|       NEAR BAY|                3.0|      (4,[3],[1.0])|\n",
      "+---------+--------+------------------+-----------+--------------+----------+----------+-------------+------------------+---------------+-------------------+-------------------+\n",
      "only showing top 5 rows\n",
      "\n"
     ]
    }
   ],
   "source": [
    "data_housing.show(5)"
   ]
  },
  {
   "cell_type": "markdown",
   "id": "4337d153",
   "metadata": {},
   "source": [
    "Финальный шаг преобразований — это объединение признаков в один вектор, с которым ML-алгоритм умеет работать."
   ]
  },
  {
   "cell_type": "code",
   "execution_count": 15,
   "id": "0657facb",
   "metadata": {},
   "outputs": [],
   "source": [
    "categorical_assembler = \\\n",
    "        VectorAssembler(inputCols=[c+'_ohe' for c in categorical_cols],\n",
    "                                        outputCol=\"categorical_features\")\n",
    "data_housing = categorical_assembler.transform(data_housing) "
   ]
  },
  {
   "cell_type": "markdown",
   "id": "e9da47a5",
   "metadata": {},
   "source": [
    "Для числовых признаков тоже нужна трансформация — шкалирование значений — чтобы сильные выбросы не смещали предсказания модели."
   ]
  },
  {
   "cell_type": "code",
   "execution_count": 16,
   "id": "3eb082ba",
   "metadata": {},
   "outputs": [],
   "source": [
    "numerical_assembler = VectorAssembler(inputCols=numerical_cols,outputCol=\"numerical_features\")\n",
    "data_housing = numerical_assembler.transform(data_housing)"
   ]
  },
  {
   "cell_type": "code",
   "execution_count": 17,
   "id": "3e9dba14",
   "metadata": {},
   "outputs": [],
   "source": [
    "standardScaler = StandardScaler(inputCol='numerical_features',outputCol=\"numerical_features_scaled\")\n",
    "data_housing = standardScaler.fit(data_housing).transform(data_housing)"
   ]
  },
  {
   "cell_type": "markdown",
   "id": "3ba6c5b8",
   "metadata": {},
   "source": [
    "После всех трансформаций получается такая таблица:"
   ]
  },
  {
   "cell_type": "code",
   "execution_count": 18,
   "id": "f357ebbf",
   "metadata": {},
   "outputs": [
    {
     "name": "stdout",
     "output_type": "stream",
     "text": [
      "['longitude', 'latitude', 'housing_median_age', 'total_rooms', 'total_bedrooms', 'population', 'households', 'median_income', 'median_house_value', 'ocean_proximity', 'ocean_proximity_idx', 'ocean_proximity_ohe', 'categorical_features', 'numerical_features', 'numerical_features_scaled']\n"
     ]
    }
   ],
   "source": [
    "print(data_housing.columns)"
   ]
  },
  {
   "cell_type": "code",
   "execution_count": 19,
   "id": "ab554c44",
   "metadata": {},
   "outputs": [],
   "source": [
    "#data_housing.toPandas().head()"
   ]
  },
  {
   "cell_type": "markdown",
   "id": "0a360e0d",
   "metadata": {},
   "source": [
    "\n",
    "<div class=\"alert alert-block alert-danger\">\n",
    "<b>Ошибка:</b> Тоже самое\n",
    "</div>"
   ]
  },
  {
   "cell_type": "code",
   "execution_count": 20,
   "id": "146faee4",
   "metadata": {},
   "outputs": [
    {
     "name": "stdout",
     "output_type": "stream",
     "text": [
      "+---------+--------+------------------+-----------+--------------+----------+----------+-------------+------------------+---------------+-------------------+-------------------+--------------------+--------------------+-------------------------+\n",
      "|longitude|latitude|housing_median_age|total_rooms|total_bedrooms|population|households|median_income|median_house_value|ocean_proximity|ocean_proximity_idx|ocean_proximity_ohe|categorical_features|  numerical_features|numerical_features_scaled|\n",
      "+---------+--------+------------------+-----------+--------------+----------+----------+-------------+------------------+---------------+-------------------+-------------------+--------------------+--------------------+-------------------------+\n",
      "|  -122.23|   37.88|              41.0|      880.0|         129.0|     322.0|     126.0|       8.3252|          452600.0|       NEAR BAY|                3.0|      (4,[3],[1.0])|       (4,[3],[1.0])|[-122.23,37.88,41...|     [-61.005863841998...|\n",
      "|  -122.22|   37.86|              21.0|     7099.0|        1106.0|    2401.0|    1138.0|       8.3014|          358500.0|       NEAR BAY|                3.0|      (4,[3],[1.0])|       (4,[3],[1.0])|[-122.22,37.86,21...|     [-61.000872770752...|\n",
      "|  -122.24|   37.85|              52.0|     1467.0|         190.0|     496.0|     177.0|       7.2574|          352100.0|       NEAR BAY|                3.0|      (4,[3],[1.0])|       (4,[3],[1.0])|[-122.24,37.85,52...|     [-61.010854913244...|\n",
      "|  -122.25|   37.85|              52.0|     1274.0|         235.0|     558.0|     219.0|       5.6431|          341300.0|       NEAR BAY|                3.0|      (4,[3],[1.0])|       (4,[3],[1.0])|[-122.25,37.85,52...|     [-61.015845984490...|\n",
      "|  -122.25|   37.85|              52.0|     1627.0|         280.0|     565.0|     259.0|       3.8462|          342200.0|       NEAR BAY|                3.0|      (4,[3],[1.0])|       (4,[3],[1.0])|[-122.25,37.85,52...|     [-61.015845984490...|\n",
      "+---------+--------+------------------+-----------+--------------+----------+----------+-------------+------------------+---------------+-------------------+-------------------+--------------------+--------------------+-------------------------+\n",
      "only showing top 5 rows\n",
      "\n"
     ]
    }
   ],
   "source": [
    "data_housing.show(5)"
   ]
  },
  {
   "cell_type": "markdown",
   "id": "8d1a7f51",
   "metadata": {},
   "source": [
    "Финальный шаг — собрать трансформированные категорийные и числовые признаки с помощью VectorAssembler."
   ]
  },
  {
   "cell_type": "code",
   "execution_count": 21,
   "id": "3884657c",
   "metadata": {},
   "outputs": [
    {
     "name": "stdout",
     "output_type": "stream",
     "text": [
      "+--------------------+-------------------------+\n",
      "|categorical_features|numerical_features_scaled|\n",
      "+--------------------+-------------------------+\n",
      "|       (4,[3],[1.0])|     [-61.005863841998...|\n",
      "|       (4,[3],[1.0])|     [-61.000872770752...|\n",
      "|       (4,[3],[1.0])|     [-61.010854913244...|\n",
      "|       (4,[3],[1.0])|     [-61.015845984490...|\n",
      "|       (4,[3],[1.0])|     [-61.015845984490...|\n",
      "+--------------------+-------------------------+\n",
      "only showing top 5 rows\n",
      "\n"
     ]
    }
   ],
   "source": [
    "all_features = ['categorical_features','numerical_features_scaled']\n",
    "\n",
    "final_assembler = VectorAssembler(inputCols=all_features, \n",
    "                                  outputCol=\"features\") \n",
    "\n",
    "data_housing = final_assembler.transform(data_housing)\n",
    "\n",
    "data_housing.select(all_features).show(5) "
   ]
  },
  {
   "cell_type": "markdown",
   "id": "9f0a82f3",
   "metadata": {
    "id": "9f0a82f3"
   },
   "source": [
    "# Обучение моделей"
   ]
  },
  {
   "cell_type": "markdown",
   "id": "ddb02cea",
   "metadata": {
    "id": "bddb08c4"
   },
   "source": [
    "Разделяем наш датасет на две части — выборку для обучения и выборку для тестирования качества модели.\n",
    "\n",
    "Разделение на выборки в Spark можно сделать с помощью метода randomSplit(). "
   ]
  },
  {
   "cell_type": "code",
   "execution_count": 22,
   "id": "c3efe615",
   "metadata": {},
   "outputs": [
    {
     "name": "stderr",
     "output_type": "stream",
     "text": [
      "                                                                                \r"
     ]
    },
    {
     "name": "stdout",
     "output_type": "stream",
     "text": [
      "16394 4039\n"
     ]
    },
    {
     "name": "stderr",
     "output_type": "stream",
     "text": [
      "                                                                                \r"
     ]
    }
   ],
   "source": [
    "train_data, test_data = data_housing.randomSplit([.8,.2], seed=RANDOM_SEED)\n",
    "print(train_data.count(), test_data.count()) "
   ]
  },
  {
   "cell_type": "markdown",
   "id": "481ff3fa",
   "metadata": {},
   "source": [
    "Построим две модели линейной регрессии на разных наборах данных:\n",
    "- используя все данные из файла;\n",
    "- используя только числовые переменные, исключив категориальные.\n",
    "\n",
    "Для построения модели будем использовать оценщик LinearRegression из библиотеки MLlib."
   ]
  },
  {
   "cell_type": "markdown",
   "id": "4b788341",
   "metadata": {},
   "source": [
    "**Модель с использованием всех файлов:**"
   ]
  },
  {
   "cell_type": "code",
   "execution_count": 23,
   "id": "28da937a",
   "metadata": {},
   "outputs": [
    {
     "name": "stderr",
     "output_type": "stream",
     "text": [
      "24/02/14 14:30:26 WARN Instrumentation: [e8a7b02b] regParam is zero, which might cause numerical instability and overfitting.\n",
      "24/02/14 14:30:26 WARN BLAS: Failed to load implementation from: com.github.fommil.netlib.NativeSystemBLAS\n",
      "24/02/14 14:30:26 WARN BLAS: Failed to load implementation from: com.github.fommil.netlib.NativeRefBLAS\n",
      "24/02/14 14:30:27 WARN LAPACK: Failed to load implementation from: com.github.fommil.netlib.NativeSystemLAPACK\n",
      "24/02/14 14:30:27 WARN LAPACK: Failed to load implementation from: com.github.fommil.netlib.NativeRefLAPACK\n",
      "                                                                                \r"
     ]
    }
   ],
   "source": [
    "lr_first = LinearRegression(labelCol=target, featuresCol='features')\n",
    "\n",
    "model_first = lr_first.fit(train_data) "
   ]
  },
  {
   "cell_type": "code",
   "execution_count": 24,
   "id": "f964ab06",
   "metadata": {},
   "outputs": [],
   "source": [
    "predictions_first = model_first.transform(test_data)\n",
    "\n",
    "predictedLabes = \"prediction\""
   ]
  },
  {
   "cell_type": "markdown",
   "id": "a9793777",
   "metadata": {},
   "source": [
    "**Модель с использованием только числовых переменных, исключив категориальные:**"
   ]
  },
  {
   "cell_type": "code",
   "execution_count": 25,
   "id": "68246ee9",
   "metadata": {},
   "outputs": [
    {
     "name": "stderr",
     "output_type": "stream",
     "text": [
      "24/02/14 14:30:29 WARN Instrumentation: [cd91db76] regParam is zero, which might cause numerical instability and overfitting.\n",
      "                                                                                \r"
     ]
    }
   ],
   "source": [
    "lr_second = LinearRegression(labelCol=target, featuresCol='numerical_features_scaled')\n",
    "\n",
    "model_second = lr_second.fit(train_data) "
   ]
  },
  {
   "cell_type": "code",
   "execution_count": 26,
   "id": "da5db681",
   "metadata": {},
   "outputs": [],
   "source": [
    "predictions_second = model_second.transform(test_data)"
   ]
  },
  {
   "cell_type": "markdown",
   "id": "757fd103",
   "metadata": {
    "id": "757fd103"
   },
   "source": [
    "# Анализ результатов"
   ]
  },
  {
   "cell_type": "markdown",
   "id": "39be4ae9",
   "metadata": {},
   "source": [
    "Сравним результаты работы линейной регрессии на двух наборах данных по метрикам RMSE, MAE и R2. \n",
    "\n",
    "Сделаем выводы."
   ]
  },
  {
   "cell_type": "markdown",
   "id": "f1c4c51f",
   "metadata": {},
   "source": [
    "Для задачи регрессии используется RegressionEvaluator:\n",
    "\n",
    "\n",
    "https://spark.apache.org/docs/latest/api/python/reference/api/pyspark.ml.evaluation.RegressionEvaluator.html"
   ]
  },
  {
   "cell_type": "code",
   "execution_count": 27,
   "id": "af8bea19",
   "metadata": {},
   "outputs": [],
   "source": [
    "evaluator = RegressionEvaluator(predictionCol=predictedLabes, labelCol = target)"
   ]
  },
  {
   "cell_type": "markdown",
   "id": "b61a883c",
   "metadata": {},
   "source": [
    "**RMSE — это корень среднего квадрата ошибок, чем ниже RMSE, тем лучше модель может «соответствовать» набору данных:**"
   ]
  },
  {
   "cell_type": "markdown",
   "id": "6f49f3a3",
   "metadata": {},
   "source": [
    "***Оценка для первой модели:***"
   ]
  },
  {
   "cell_type": "code",
   "execution_count": 28,
   "id": "e88f4ba3",
   "metadata": {},
   "outputs": [
    {
     "data": {
      "text/plain": [
       "69530.75171864238"
      ]
     },
     "execution_count": 28,
     "metadata": {},
     "output_type": "execute_result"
    }
   ],
   "source": [
    "evaluator.evaluate(predictions_first, {evaluator.metricName: \"rmse\"})"
   ]
  },
  {
   "cell_type": "markdown",
   "id": "ee131d7a",
   "metadata": {},
   "source": [
    "***Оценка для второй модели:***"
   ]
  },
  {
   "cell_type": "code",
   "execution_count": 29,
   "id": "33b5cbd4",
   "metadata": {},
   "outputs": [
    {
     "name": "stderr",
     "output_type": "stream",
     "text": [
      "                                                                                \r"
     ]
    },
    {
     "data": {
      "text/plain": [
       "70245.12406852088"
      ]
     },
     "execution_count": 29,
     "metadata": {},
     "output_type": "execute_result"
    }
   ],
   "source": [
    "evaluator.evaluate(predictions_second, {evaluator.metricName: \"rmse\"})"
   ]
  },
  {
   "cell_type": "markdown",
   "id": "b4364813",
   "metadata": {},
   "source": [
    "**Для первой модели метрика RMSE лучше.**"
   ]
  },
  {
   "cell_type": "markdown",
   "id": "069bb42f",
   "metadata": {},
   "source": [
    "Средняя абсолютная ошибка (Mean Absolute Error) – это степень несоответствия между фактическими и прогнозируемыми значениями.\n",
    "\n",
    "Абсолютная ошибка представляет собой разность между спрогнозированным и фактическим значениями. \n",
    "\n",
    "***MAE*** — это среднее от таких ошибок, что помогает понять эффективность модели.\n",
    "\n",
    "Чем ближе MAE к нулю, тем точнее модель. "
   ]
  },
  {
   "cell_type": "markdown",
   "id": "e8be5bed",
   "metadata": {},
   "source": [
    "***Оценка для первой модели:***"
   ]
  },
  {
   "cell_type": "code",
   "execution_count": 30,
   "id": "51bebba9",
   "metadata": {},
   "outputs": [
    {
     "data": {
      "text/plain": [
       "50426.79587415038"
      ]
     },
     "execution_count": 30,
     "metadata": {},
     "output_type": "execute_result"
    }
   ],
   "source": [
    "evaluator.evaluate(predictions_first, {evaluator.metricName: \"mae\"})"
   ]
  },
  {
   "cell_type": "markdown",
   "id": "24344295",
   "metadata": {},
   "source": [
    "***Оценка для второй модели:***"
   ]
  },
  {
   "cell_type": "code",
   "execution_count": 31,
   "id": "0cf4a6da",
   "metadata": {},
   "outputs": [
    {
     "data": {
      "text/plain": [
       "51483.290718840384"
      ]
     },
     "execution_count": 31,
     "metadata": {},
     "output_type": "execute_result"
    }
   ],
   "source": [
    "evaluator.evaluate(predictions_second, {evaluator.metricName: \"mae\"})"
   ]
  },
  {
   "cell_type": "markdown",
   "id": "676ae6d2",
   "metadata": {},
   "source": [
    "**По метрике MAE первая модель точнее.**"
   ]
  },
  {
   "cell_type": "markdown",
   "id": "453c0a7e",
   "metadata": {},
   "source": [
    "Коэффициент детерминации, или **метрика R2**, вычисляет долю среднеквадратичной ошибки модели от MSE среднего, а затем вычитает эту величину из единицы. Увеличение метрики означает прирост\n",
    "качества модели."
   ]
  },
  {
   "cell_type": "markdown",
   "id": "2b757dd0",
   "metadata": {},
   "source": [
    "***Оценка для первой модели:***"
   ]
  },
  {
   "cell_type": "code",
   "execution_count": 32,
   "id": "dd34a14d",
   "metadata": {},
   "outputs": [
    {
     "data": {
      "text/plain": [
       "0.6376158143184116"
      ]
     },
     "execution_count": 32,
     "metadata": {},
     "output_type": "execute_result"
    }
   ],
   "source": [
    "evaluator.evaluate(predictions_first, {evaluator.metricName: \"r2\"})"
   ]
  },
  {
   "cell_type": "markdown",
   "id": "28b8be2a",
   "metadata": {},
   "source": [
    "***Оценка для второй модели:***"
   ]
  },
  {
   "cell_type": "code",
   "execution_count": 33,
   "id": "e6f795e4",
   "metadata": {},
   "outputs": [
    {
     "data": {
      "text/plain": [
       "0.6301311513972139"
      ]
     },
     "execution_count": 33,
     "metadata": {},
     "output_type": "execute_result"
    }
   ],
   "source": [
    "evaluator.evaluate(predictions_second, {evaluator.metricName: \"r2\"})"
   ]
  },
  {
   "cell_type": "markdown",
   "id": "f80be1bc",
   "metadata": {},
   "source": [
    "**Качество первой модели по результам метрики R2 лучше.**"
   ]
  },
  {
   "cell_type": "markdown",
   "id": "fa236f23",
   "metadata": {},
   "source": [
    "# Вывод"
   ]
  },
  {
   "cell_type": "markdown",
   "id": "ba2eb8dc",
   "metadata": {},
   "source": [
    "**В ходе выполнения проекта:**\n",
    "\n",
    "- Инициализировали локальную Spark-сессию.\n",
    "\t\n",
    "- Прочитали содержимое файла housing.csv.\n",
    "\t\t\n",
    "- Вывели типы данных колонок датасета, используя методы pySpark и выяснили что: \n",
    "    - В наборе данных представлены исключительно числовые переменные, исключение составила одна категориальная переменная - ocean_proximity.\n",
    "\t\t\n",
    "- Выполнили предобработку данных:\n",
    "  - Исследовали данные на наличие пропусков и выяснили что: \n",
    "\t- Пропуски обнаружены только в столбце total_bedrooms — общее количество спален в домах жилого массива, пропущенные значения составляют около 1% от общего числа строк, и их удаление не повредило нашему исследованию.\n",
    "  - Преобразовали колонку с категориальными значениями техникой One hot encoding.\n",
    "  - Также пришли к выводу, что для числовых признаков тоже нужна трансформация — шкалирование значений — чтобы сильные выбросы не смещали предсказания модели.\n",
    "\t\t\n",
    "- Построили две модели линейной регрессии на разных наборах данных:\n",
    "\t- используя все данные из файла;\n",
    "\t- используя только числовые переменные, исключив категориальные;\n",
    "    - для построения модели использовали оценщик LinearRegression из библиотеки MLlib.\n",
    "\t\t\n",
    "- Сравнили результаты работы линейной регрессии на двух наборах данных по метрикам RMSE, MAE и R2. И пришли к выводу, что на всех трех метриках первая модель (с использованием всех данных) показывает более лучшие значения. "
   ]
  }
 ],
 "metadata": {
  "ExecuteTimeLog": [
   {
    "duration": 1390,
    "start_time": "2024-02-12T11:55:50.337Z"
   },
   {
    "duration": 15165,
    "start_time": "2024-02-12T11:58:16.958Z"
   },
   {
    "duration": 8125,
    "start_time": "2024-02-12T12:13:05.324Z"
   },
   {
    "duration": 540,
    "start_time": "2024-02-12T12:14:37.788Z"
   },
   {
    "duration": 87,
    "start_time": "2024-02-12T12:22:08.213Z"
   },
   {
    "duration": 78,
    "start_time": "2024-02-12T12:22:19.017Z"
   },
   {
    "duration": 35,
    "start_time": "2024-02-12T12:22:40.666Z"
   },
   {
    "duration": 4728,
    "start_time": "2024-02-12T12:42:18.699Z"
   },
   {
    "duration": 4839,
    "start_time": "2024-02-12T12:49:29.119Z"
   },
   {
    "duration": 22,
    "start_time": "2024-02-12T13:12:41.398Z"
   },
   {
    "duration": 3783,
    "start_time": "2024-02-12T13:13:15.536Z"
   },
   {
    "duration": 3,
    "start_time": "2024-02-12T13:20:17.108Z"
   },
   {
    "duration": 1883,
    "start_time": "2024-02-12T13:31:25.808Z"
   },
   {
    "duration": 589,
    "start_time": "2024-02-12T13:32:46.884Z"
   },
   {
    "duration": 117,
    "start_time": "2024-02-12T13:33:52.508Z"
   },
   {
    "duration": 2411,
    "start_time": "2024-02-12T13:34:00.243Z"
   },
   {
    "duration": 110,
    "start_time": "2024-02-12T13:39:52.015Z"
   },
   {
    "duration": 47,
    "start_time": "2024-02-12T13:42:11.805Z"
   },
   {
    "duration": 1169,
    "start_time": "2024-02-12T13:43:05.579Z"
   },
   {
    "duration": 20,
    "start_time": "2024-02-12T13:43:42.512Z"
   },
   {
    "duration": 4,
    "start_time": "2024-02-12T13:43:48.349Z"
   },
   {
    "duration": 4262,
    "start_time": "2024-02-12T13:44:11.347Z"
   },
   {
    "duration": 382,
    "start_time": "2024-02-12T13:46:27.765Z"
   },
   {
    "duration": 45,
    "start_time": "2024-02-13T19:40:32.017Z"
   },
   {
    "duration": 1255,
    "start_time": "2024-02-13T19:40:36.995Z"
   },
   {
    "duration": 14302,
    "start_time": "2024-02-13T19:40:38.252Z"
   },
   {
    "duration": 6915,
    "start_time": "2024-02-13T19:40:52.557Z"
   },
   {
    "duration": 675,
    "start_time": "2024-02-13T19:40:59.473Z"
   },
   {
    "duration": 94,
    "start_time": "2024-02-13T19:41:00.151Z"
   },
   {
    "duration": 3604,
    "start_time": "2024-02-13T19:41:00.247Z"
   },
   {
    "duration": 3494,
    "start_time": "2024-02-13T19:41:03.852Z"
   },
   {
    "duration": 12,
    "start_time": "2024-02-13T19:41:07.347Z"
   },
   {
    "duration": 2900,
    "start_time": "2024-02-13T19:41:07.360Z"
   },
   {
    "duration": 8,
    "start_time": "2024-02-13T19:41:10.262Z"
   },
   {
    "duration": 1385,
    "start_time": "2024-02-13T19:41:10.271Z"
   },
   {
    "duration": 446,
    "start_time": "2024-02-13T19:41:11.657Z"
   },
   {
    "duration": 1531,
    "start_time": "2024-02-13T19:41:12.104Z"
   },
   {
    "duration": 45,
    "start_time": "2024-02-13T19:41:13.637Z"
   },
   {
    "duration": 88,
    "start_time": "2024-02-13T19:41:13.683Z"
   },
   {
    "duration": 878,
    "start_time": "2024-02-13T19:41:13.773Z"
   },
   {
    "duration": 7,
    "start_time": "2024-02-13T19:41:14.652Z"
   },
   {
    "duration": 3913,
    "start_time": "2024-02-13T19:41:14.660Z"
   },
   {
    "duration": 329,
    "start_time": "2024-02-13T19:41:18.574Z"
   },
   {
    "duration": 2153,
    "start_time": "2024-02-13T19:41:18.905Z"
   },
   {
    "duration": 93,
    "start_time": "2024-02-13T19:49:22.854Z"
   },
   {
    "duration": 3120,
    "start_time": "2024-02-13T19:50:14.280Z"
   },
   {
    "duration": 27,
    "start_time": "2024-02-13T19:58:00.540Z"
   },
   {
    "duration": 2536,
    "start_time": "2024-02-13T20:02:02.511Z"
   },
   {
    "duration": 16,
    "start_time": "2024-02-13T20:02:32.831Z"
   },
   {
    "duration": 10,
    "start_time": "2024-02-13T20:16:04.175Z"
   },
   {
    "duration": 949,
    "start_time": "2024-02-13T20:27:29.123Z"
   },
   {
    "duration": 661,
    "start_time": "2024-02-13T20:28:54.886Z"
   },
   {
    "duration": 519,
    "start_time": "2024-02-13T20:34:29.687Z"
   },
   {
    "duration": 462,
    "start_time": "2024-02-13T20:34:55.331Z"
   },
   {
    "duration": 88,
    "start_time": "2024-02-13T20:35:20.330Z"
   },
   {
    "duration": 456,
    "start_time": "2024-02-13T20:40:04.710Z"
   },
   {
    "duration": 437,
    "start_time": "2024-02-13T20:40:40.174Z"
   },
   {
    "duration": 1403,
    "start_time": "2024-02-14T09:04:36.034Z"
   },
   {
    "duration": 14646,
    "start_time": "2024-02-14T09:04:37.439Z"
   },
   {
    "duration": 8378,
    "start_time": "2024-02-14T09:04:52.087Z"
   },
   {
    "duration": 717,
    "start_time": "2024-02-14T09:05:00.467Z"
   },
   {
    "duration": 98,
    "start_time": "2024-02-14T09:05:01.188Z"
   },
   {
    "duration": 4085,
    "start_time": "2024-02-14T09:05:01.288Z"
   },
   {
    "duration": 4030,
    "start_time": "2024-02-14T09:05:05.374Z"
   },
   {
    "duration": 65,
    "start_time": "2024-02-14T09:05:09.406Z"
   },
   {
    "duration": 3352,
    "start_time": "2024-02-14T09:05:09.473Z"
   },
   {
    "duration": 7,
    "start_time": "2024-02-14T09:05:12.865Z"
   },
   {
    "duration": 1791,
    "start_time": "2024-02-14T09:05:12.874Z"
   },
   {
    "duration": 711,
    "start_time": "2024-02-14T09:05:14.667Z"
   },
   {
    "duration": 1774,
    "start_time": "2024-02-14T09:05:15.380Z"
   },
   {
    "duration": 279,
    "start_time": "2024-02-14T09:05:17.157Z"
   },
   {
    "duration": 69,
    "start_time": "2024-02-14T09:05:17.438Z"
   },
   {
    "duration": 92,
    "start_time": "2024-02-14T09:05:17.508Z"
   },
   {
    "duration": 1140,
    "start_time": "2024-02-14T09:05:17.665Z"
   },
   {
    "duration": 62,
    "start_time": "2024-02-14T09:05:18.807Z"
   },
   {
    "duration": 4011,
    "start_time": "2024-02-14T09:05:18.870Z"
   },
   {
    "duration": 391,
    "start_time": "2024-02-14T09:05:22.883Z"
   },
   {
    "duration": 330,
    "start_time": "2024-02-14T09:05:23.276Z"
   },
   {
    "duration": 2390,
    "start_time": "2024-02-14T09:05:23.608Z"
   },
   {
    "duration": 3786,
    "start_time": "2024-02-14T09:05:25.999Z"
   },
   {
    "duration": 82,
    "start_time": "2024-02-14T09:05:29.786Z"
   },
   {
    "duration": 2504,
    "start_time": "2024-02-14T09:05:29.871Z"
   },
   {
    "duration": 17,
    "start_time": "2024-02-14T09:05:32.377Z"
   },
   {
    "duration": 76,
    "start_time": "2024-02-14T09:05:32.395Z"
   },
   {
    "duration": 812,
    "start_time": "2024-02-14T09:05:32.473Z"
   },
   {
    "duration": 784,
    "start_time": "2024-02-14T09:05:33.287Z"
   },
   {
    "duration": 755,
    "start_time": "2024-02-14T09:05:34.072Z"
   },
   {
    "duration": 579,
    "start_time": "2024-02-14T09:05:34.829Z"
   },
   {
    "duration": 514,
    "start_time": "2024-02-14T09:05:35.410Z"
   },
   {
    "duration": 513,
    "start_time": "2024-02-14T09:05:35.966Z"
   },
   {
    "duration": 1352,
    "start_time": "2024-02-14T13:56:49.271Z"
   },
   {
    "duration": 14738,
    "start_time": "2024-02-14T13:56:50.624Z"
   },
   {
    "duration": 7751,
    "start_time": "2024-02-14T13:57:10.437Z"
   },
   {
    "duration": 499,
    "start_time": "2024-02-14T13:57:26.651Z"
   },
   {
    "duration": 10,
    "start_time": "2024-02-14T13:57:37.805Z"
   },
   {
    "duration": 7,
    "start_time": "2024-02-14T13:57:40.511Z"
   },
   {
    "duration": 589,
    "start_time": "2024-02-14T13:57:45.374Z"
   },
   {
    "duration": 68,
    "start_time": "2024-02-14T13:58:21.243Z"
   },
   {
    "duration": 8,
    "start_time": "2024-02-14T13:58:23.828Z"
   },
   {
    "duration": 3508,
    "start_time": "2024-02-14T13:58:27.481Z"
   },
   {
    "duration": 1414,
    "start_time": "2024-02-14T14:29:39.841Z"
   },
   {
    "duration": 15079,
    "start_time": "2024-02-14T14:29:41.257Z"
   },
   {
    "duration": 8187,
    "start_time": "2024-02-14T14:29:56.338Z"
   },
   {
    "duration": 771,
    "start_time": "2024-02-14T14:30:04.527Z"
   },
   {
    "duration": 32,
    "start_time": "2024-02-14T14:30:05.301Z"
   },
   {
    "duration": 4478,
    "start_time": "2024-02-14T14:30:05.335Z"
   },
   {
    "duration": 4317,
    "start_time": "2024-02-14T14:30:09.814Z"
   },
   {
    "duration": 73,
    "start_time": "2024-02-14T14:30:14.133Z"
   },
   {
    "duration": 3585,
    "start_time": "2024-02-14T14:30:14.209Z"
   },
   {
    "duration": 7,
    "start_time": "2024-02-14T14:30:17.796Z"
   },
   {
    "duration": 1697,
    "start_time": "2024-02-14T14:30:17.804Z"
   },
   {
    "duration": 599,
    "start_time": "2024-02-14T14:30:19.502Z"
   },
   {
    "duration": 2,
    "start_time": "2024-02-14T14:30:20.102Z"
   },
   {
    "duration": 301,
    "start_time": "2024-02-14T14:30:20.107Z"
   },
   {
    "duration": 95,
    "start_time": "2024-02-14T14:30:20.410Z"
   },
   {
    "duration": 87,
    "start_time": "2024-02-14T14:30:20.507Z"
   },
   {
    "duration": 1008,
    "start_time": "2024-02-14T14:30:20.596Z"
   },
   {
    "duration": 5,
    "start_time": "2024-02-14T14:30:21.606Z"
   },
   {
    "duration": 8,
    "start_time": "2024-02-14T14:30:21.612Z"
   },
   {
    "duration": 392,
    "start_time": "2024-02-14T14:30:21.622Z"
   },
   {
    "duration": 384,
    "start_time": "2024-02-14T14:30:22.016Z"
   },
   {
    "duration": 3096,
    "start_time": "2024-02-14T14:30:22.402Z"
   },
   {
    "duration": 3619,
    "start_time": "2024-02-14T14:30:25.499Z"
   },
   {
    "duration": 85,
    "start_time": "2024-02-14T14:30:29.119Z"
   },
   {
    "duration": 2620,
    "start_time": "2024-02-14T14:30:29.206Z"
   },
   {
    "duration": 67,
    "start_time": "2024-02-14T14:30:31.827Z"
   },
   {
    "duration": 79,
    "start_time": "2024-02-14T14:30:31.896Z"
   },
   {
    "duration": 942,
    "start_time": "2024-02-14T14:30:31.976Z"
   },
   {
    "duration": 814,
    "start_time": "2024-02-14T14:30:32.920Z"
   },
   {
    "duration": 693,
    "start_time": "2024-02-14T14:30:33.735Z"
   },
   {
    "duration": 598,
    "start_time": "2024-02-14T14:30:34.430Z"
   },
   {
    "duration": 668,
    "start_time": "2024-02-14T14:30:35.030Z"
   },
   {
    "duration": 501,
    "start_time": "2024-02-14T14:30:35.700Z"
   }
  ],
  "colab": {
   "name": "PySparkSprint.ipynb",
   "provenance": []
  },
  "kernelspec": {
   "display_name": "Python 3 (ipykernel)",
   "language": "python",
   "name": "python3"
  },
  "language_info": {
   "codemirror_mode": {
    "name": "ipython",
    "version": 3
   },
   "file_extension": ".py",
   "mimetype": "text/x-python",
   "name": "python",
   "nbconvert_exporter": "python",
   "pygments_lexer": "ipython3",
   "version": "3.10.9"
  },
  "toc": {
   "base_numbering": 1,
   "nav_menu": {},
   "number_sections": true,
   "sideBar": true,
   "skip_h1_title": true,
   "title_cell": "Table of Contents",
   "title_sidebar": "Contents",
   "toc_cell": false,
   "toc_position": {},
   "toc_section_display": true,
   "toc_window_display": false
  }
 },
 "nbformat": 4,
 "nbformat_minor": 5
}
